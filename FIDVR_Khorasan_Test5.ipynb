{
  "nbformat": 4,
  "nbformat_minor": 0,
  "metadata": {
    "colab": {
      "name": "FIDVR_Khorasan_Test3.ipynb",
      "provenance": [],
      "collapsed_sections": [],
      "authorship_tag": "ABX9TyOKLQjNxJtJUfWkUQf02pki",
      "include_colab_link": true
    },
    "kernelspec": {
      "name": "python3",
      "display_name": "Python 3"
    },
    "language_info": {
      "name": "python"
    },
    "accelerator": "GPU"
  },
  "cells": [
    {
      "cell_type": "markdown",
      "metadata": {
        "id": "view-in-github",
        "colab_type": "text"
      },
      "source": [
        "<a href=\"https://colab.research.google.com/github/mahmoudta74/FIDVR/blob/main/FIDVR_Khorasan_Test5.ipynb\" target=\"_parent\"><img src=\"https://colab.research.google.com/assets/colab-badge.svg\" alt=\"Open In Colab\"/></a>"
      ]
    },
    {
      "cell_type": "code",
      "metadata": {
        "id": "jWZFVUspqwWn",
        "colab": {
          "base_uri": "https://localhost:8080/"
        },
        "outputId": "e05cdb5a-a978-4c08-bc30-c8b14bc4250c"
      },
      "source": [
        "import numpy as np\n",
        "import pandas as pd\n",
        "import seaborn as sns\n",
        "from pylab import rcParams\n",
        "import matplotlib.pyplot as plt\n",
        "from matplotlib import rc\n",
        "\n",
        "from torch.utils.tensorboard import SummaryWriter\n",
        "%load_ext tensorboard\n",
        "%matplotlib inline\n",
        "from IPython.display import display, clear_output\n",
        "import pandas as pd\n",
        "import time\n",
        "import json\n",
        "\n",
        "from sklearn.preprocessing import MinMaxScaler\n",
        "from pandas.plotting import register_matplotlib_converters\n",
        "from tqdm.notebook import tqdm\n",
        "\n",
        "import torch\n",
        "import torchvision\n",
        "import torchvision.transforms as transforms\n",
        "from torch.utils.data import Dataset, DataLoader\n",
        "\n",
        "import torch.nn as nn\n",
        "import torch.optim as optim\n",
        "import torch.nn.functional as F\n",
        "\n",
        "import torch.optim as optim\n",
        "\n",
        "torch.set_printoptions(linewidth=120) #Disply Option for output\n",
        "torch.set_grad_enabled(True)          # already on by default\\\n",
        "\n",
        "\n",
        "%matplotlib inline\n",
        "%config InlineBackend.figure_format='retina'\n",
        "\n",
        "sns.set(style='whitegrid', palette='muted', font_scale=1.2)\n",
        "\n",
        "HAPPY_COLORS_PALETTE = [\"#01BEFE\", \"#FFDD00\", \"#FF7D00\", \"#FF006D\", \"#93D30C\", \"#8F00FF\"]\n",
        "\n",
        "sns.set_palette(sns.color_palette(HAPPY_COLORS_PALETTE))\n",
        "\n",
        "rcParams['figure.figsize'] = 14, 10\n",
        "register_matplotlib_converters()\n",
        "\n",
        "RANDOM_SEED = 42\n",
        "np.random.seed(RANDOM_SEED)\n",
        "torch.manual_seed(RANDOM_SEED)"
      ],
      "execution_count": 4,
      "outputs": [
        {
          "output_type": "stream",
          "text": [
            "The tensorboard extension is already loaded. To reload it, use:\n",
            "  %reload_ext tensorboard\n"
          ],
          "name": "stdout"
        },
        {
          "output_type": "execute_result",
          "data": {
            "text/plain": [
              "<torch._C.Generator at 0x7f96302afa70>"
            ]
          },
          "metadata": {
            "tags": []
          },
          "execution_count": 4
        }
      ]
    },
    {
      "cell_type": "code",
      "metadata": {
        "colab": {
          "base_uri": "https://localhost:8080/"
        },
        "id": "GLElL1m8rIIK",
        "outputId": "657d430e-7825-4485-8e2e-a63d0aeb7361"
      },
      "source": [
        "!nvidia-smi"
      ],
      "execution_count": 5,
      "outputs": [
        {
          "output_type": "stream",
          "text": [
            "Tue Jun  8 08:13:58 2021       \n",
            "+-----------------------------------------------------------------------------+\n",
            "| NVIDIA-SMI 465.27       Driver Version: 460.32.03    CUDA Version: 11.2     |\n",
            "|-------------------------------+----------------------+----------------------+\n",
            "| GPU  Name        Persistence-M| Bus-Id        Disp.A | Volatile Uncorr. ECC |\n",
            "| Fan  Temp  Perf  Pwr:Usage/Cap|         Memory-Usage | GPU-Util  Compute M. |\n",
            "|                               |                      |               MIG M. |\n",
            "|===============================+======================+======================|\n",
            "|   0  Tesla P4            Off  | 00000000:00:04.0 Off |                    0 |\n",
            "| N/A   38C    P8     7W /  75W |      0MiB /  7611MiB |      0%      Default |\n",
            "|                               |                      |                  N/A |\n",
            "+-------------------------------+----------------------+----------------------+\n",
            "                                                                               \n",
            "+-----------------------------------------------------------------------------+\n",
            "| Processes:                                                                  |\n",
            "|  GPU   GI   CI        PID   Type   Process name                  GPU Memory |\n",
            "|        ID   ID                                                   Usage      |\n",
            "|=============================================================================|\n",
            "|  No running processes found                                                 |\n",
            "+-----------------------------------------------------------------------------+\n"
          ],
          "name": "stdout"
        }
      ]
    },
    {
      "cell_type": "code",
      "metadata": {
        "id": "2O4_NFl0sC-J",
        "colab": {
          "base_uri": "https://localhost:8080/"
        },
        "outputId": "d901dc03-1b46-4847-d955-0c2d48948f80"
      },
      "source": [
        "from google.colab import drive\n",
        "drive.mount('/content/drive')"
      ],
      "execution_count": 6,
      "outputs": [
        {
          "output_type": "stream",
          "text": [
            "Mounted at /content/drive\n"
          ],
          "name": "stdout"
        }
      ]
    },
    {
      "cell_type": "code",
      "metadata": {
        "colab": {
          "base_uri": "https://localhost:8080/"
        },
        "id": "S4Rj-x0grILX",
        "outputId": "fad5d8de-e658-42a0-fcef-e29be8fca930"
      },
      "source": [
        "print(torch.__version__)\n",
        "print(torchvision.__version__)"
      ],
      "execution_count": 7,
      "outputs": [
        {
          "output_type": "stream",
          "text": [
            "1.8.1+cu101\n",
            "0.9.1+cu101\n"
          ],
          "name": "stdout"
        }
      ]
    },
    {
      "cell_type": "code",
      "metadata": {
        "colab": {
          "base_uri": "https://localhost:8080/"
        },
        "id": "Nk9fpeIqCGAR",
        "outputId": "dabe9836-e0d4-4f69-9f97-11e2faf2d4a0"
      },
      "source": [
        "# checking for GPU\n",
        "torch.cuda.is_available()"
      ],
      "execution_count": 8,
      "outputs": [
        {
          "output_type": "execute_result",
          "data": {
            "text/plain": [
              "True"
            ]
          },
          "metadata": {
            "tags": []
          },
          "execution_count": 8
        }
      ]
    },
    {
      "cell_type": "code",
      "metadata": {
        "id": "EBHWgLWsq8wT"
      },
      "source": [
        "df1 = pd.read_csv('/content/drive/MyDrive/dataset/Main_Dataset.csv')\n",
        "df2 = pd.read_csv('/content/drive/MyDrive/dataset/result_rms1.csv')\n",
        "\n",
        "data1 = df1.to_numpy()\n",
        "data2 = df2.to_numpy()"
      ],
      "execution_count": 37,
      "outputs": []
    },
    {
      "cell_type": "code",
      "metadata": {
        "colab": {
          "base_uri": "https://localhost:8080/"
        },
        "id": "Z0mTpheBq83P",
        "outputId": "03d8ce49-d58f-40a7-8588-f23959a42a26"
      },
      "source": [
        "train_data = data1[: , 160].reshape(-1, 1)\n",
        "test_data  = data2[: , 160].reshape(-1, 1)\n",
        "\n",
        "print(f'train_data size = {train_data.shape}\\t test_data size = {test_data.shape}')"
      ],
      "execution_count": 38,
      "outputs": [
        {
          "output_type": "stream",
          "text": [
            "train_data size = (127051, 1)\t test_data size = (12130, 1)\n"
          ],
          "name": "stdout"
        }
      ]
    },
    {
      "cell_type": "code",
      "metadata": {
        "id": "WjkA5fFpq85z"
      },
      "source": [
        "def create_sequences(time, data, seq_length, num_run):\n",
        "    xs = []\n",
        "    ys = []\n",
        "    t = time[0]\n",
        "    j = 0\n",
        "\n",
        "    for i in range(len(data) - (seq_length*num_run - num_run)):\n",
        "\n",
        "        if t == 0:\n",
        "            if j==0:\n",
        "                x = data[j : (j + seq_length)]\n",
        "                y = data[(j+ seq_length)]\n",
        "                xs.append(x)\n",
        "                ys.append(y)\n",
        "                j = j+seq_length\n",
        "                t = time[j]\n",
        "            else:\n",
        "                x = data[j+1 : (j+1 + seq_length)]\n",
        "                y = data[(j+1+ seq_length)]\n",
        "                xs.append(x)\n",
        "                ys.append(y)\n",
        "                j = j+seq_length\n",
        "                t = time[j]\n",
        "\n",
        "\n",
        "        else:\n",
        "            x = data[j+1-seq_length : j+1]\n",
        "            y = data[j+1]\n",
        "            xs.append(x)\n",
        "            ys.append(y)\n",
        "            j = j+1\n",
        "            t = time[j+1]\n",
        "\n",
        "    return np.array(xs), np.array(ys)"
      ],
      "execution_count": 11,
      "outputs": []
    },
    {
      "cell_type": "code",
      "metadata": {
        "colab": {
          "base_uri": "https://localhost:8080/"
        },
        "id": "ObpsPD_Iq9DD",
        "outputId": "ff0ffe8b-c071-4255-b662-914b3d5deba5"
      },
      "source": [
        "seq_length = 35\n",
        "time1 = data1[:,0]\n",
        "time2 = data2[:,0]\n",
        "\n",
        "X_train, y_train = create_sequences(time1, train_data, seq_length , num_run=1050)\n",
        "X_test , y_test  = create_sequences(time2,  test_data , seq_length, num_run=105)\n",
        "\n",
        "print(X_train.shape,'\\t', y_train.shape)\n",
        "print(X_test.shape,'\\t', y_test.shape)"
      ],
      "execution_count": 39,
      "outputs": [
        {
          "output_type": "stream",
          "text": [
            "(91351, 35, 1) \t (91351, 1)\n",
            "(8560, 35, 1) \t (8560, 1)\n"
          ],
          "name": "stdout"
        }
      ]
    },
    {
      "cell_type": "code",
      "metadata": {
        "id": "tHqWUVEz0jbW"
      },
      "source": [
        "# You should build your custom dataset as below.\n",
        "class CustomDataset(torch.utils.data.Dataset):\n",
        "    def __init__(self, Data, target, Transform= None):\n",
        "        self.data = Data\n",
        "        self.label = target\n",
        "        self.Transform = Transform\n",
        "        \n",
        "    def __getitem__(self, index):\n",
        "        #r = self.data.iloc[index]\n",
        "        label = torch.tensor(self.label[index], dtype= torch.float32)  \n",
        "        sample = torch.tensor(self.data[index], dtype= torch.float32)\n",
        "        if self.Transform:\n",
        "            sample = self.Transform(sample)\n",
        "        return (sample, label)\n",
        "\n",
        "    def __len__(self):\n",
        "        return self.data.shape[0]\n"
      ],
      "execution_count": 13,
      "outputs": []
    },
    {
      "cell_type": "code",
      "metadata": {
        "id": "cGizvqOF0p80"
      },
      "source": [
        "from collections import OrderedDict\n",
        "from collections import namedtuple\n",
        "from itertools import product"
      ],
      "execution_count": 14,
      "outputs": []
    },
    {
      "cell_type": "code",
      "metadata": {
        "id": "k7NC1jNA0qCy"
      },
      "source": [
        "class RunBuilder():\n",
        "  @staticmethod       #Since the get_runs() method is static,\n",
        "                      #we can call it using the class itself. We don't need an instance of the class.\n",
        "  def get_runs(params):                \n",
        "\n",
        "    Run = namedtuple('Run', params.keys()) #This line creates a new tuple subclass called Run that has named fields.\n",
        "                                            # This Run class is used to encapsulate the data for each of our runs.\n",
        "                                            # The field names of this class are set by the list of names passed to the \n",
        "                                            # constructor. First, we are passing the class name. Then,\n",
        "                                            # we are passing the field names,\n",
        "                                            # and in our case, we are passing the list of keys from our dictionary.\n",
        "\n",
        "#Now that we have a class for our runs, we are ready to create some.\n",
        "    runs = []\n",
        "    for v in product(*params.values()):  #  v is a tuple like (0.01, 64, 'cuda')\n",
        "      runs.append(Run(*v))               # *v is \n",
        "      \n",
        "    return runs"
      ],
      "execution_count": 15,
      "outputs": []
    },
    {
      "cell_type": "code",
      "metadata": {
        "id": "-5uXkMCnUoVV"
      },
      "source": [
        "class RunManager():\n",
        "  \n",
        "    def __init__(self):\n",
        "\n",
        "        self.epoch_count = 0           # The number of epochs.\n",
        "        self.epoch_loss = 0            # The running loss for an epoch.\n",
        "        self.epoch_Val_loss = 0\n",
        "        self.epoch_start_time = None   # The start time of the epoch.\n",
        "\n",
        "        self.run_params = None         # This is the run definition in terms for the run parameters\n",
        "        self.run_count = 0             # gives us the run number.\n",
        "        self.run_start_time = None\n",
        "        self.run_data = []             #  is a list we'll use to keep track of the parameter values and the\n",
        "                                        # results of each epoch for each run and so we'll see that we\n",
        "                                        # add a value to this list for each epoch\n",
        "\n",
        "        self.network = None\n",
        "        self.loader = None\n",
        "        self.Val_loader = None\n",
        "        self.tb = None\n",
        "\n",
        "#######################################################\n",
        "\n",
        "    def begin_run(self, run, network, loader, Val_loader):\n",
        "\n",
        "        self.run_start_time = time.time()\n",
        "\n",
        "        self.run_params = run\n",
        "        self.run_count += 1\n",
        "\n",
        "        self.network = network\n",
        "        self.loader = loader\n",
        "        self.Val_loader = Val_loader\n",
        "        self.tb = SummaryWriter(comment=f'-{run}') # passing run as an comment argument to SummaryWriter\n",
        "\n",
        "        data, labels = next(iter(self.loader))\n",
        "        #grid = torchvision.utils.make_grid(images)\n",
        "\n",
        "        #self.tb.add_image('images', grid)\n",
        "        self.tb.add_graph(self.network, data.to(getattr(run, 'device', 'cpu')))\n",
        "\n",
        "############################################################\n",
        "\n",
        "    def end_run(self):\n",
        "        self.tb.close()\n",
        "        self.epoch_count = 0\n",
        "\n",
        "########################################################3##3\n",
        "\n",
        "    def begin_epoch(self):\n",
        "        self.epoch_start_time = time.time()\n",
        "\n",
        "        self.epoch_count += 1\n",
        "        self.epoch_loss = 0\n",
        "        self.epoch_Val_loss = 0\n",
        "\n",
        "##############################################################3\n",
        "\n",
        "    def end_epoch(self):\n",
        "\n",
        "        epoch_duration = time.time() - self.epoch_start_time\n",
        "        run_duration = time.time() - self.run_start_time\n",
        "\n",
        "        loss = self.epoch_loss #/ len(self.loader.dataset)\n",
        "        Val_loss = self.epoch_Val_loss #\n",
        "\n",
        "        self.tb.add_scalar('Loss', loss, self.epoch_count)\n",
        "        self.tb.add_scalar('Val_Loss', Val_loss, self.epoch_count)\n",
        "\n",
        "        for name, param in self.network.named_parameters():\n",
        "            self.tb.add_histogram(name, param, self.epoch_count)\n",
        "            self.tb.add_histogram(f'{name}.grad', param.grad, self.epoch_count)\n",
        "\n",
        "\n",
        "        results = OrderedDict()\n",
        "        results[\"run\"] = self.run_count\n",
        "        results[\"epoch\"] = self.epoch_count\n",
        "        results['loss'] = loss\n",
        "        results[\"Val_loss\"] = Val_loss\n",
        "        results['epoch duration'] = epoch_duration\n",
        "        results['run duration'] = run_duration\n",
        "\n",
        "        for k,v in self.run_params._asdict().items(): results[k] = v\n",
        "\n",
        "        self.run_data.append(results)\n",
        "\n",
        "        df = pd.DataFrame.from_dict(self.run_data, orient='columns')\n",
        "\n",
        "        clear_output(wait=True)     # clear current output\n",
        "        display(df)                 # display new dataframe\n",
        "\n",
        "################################################################\n",
        "\n",
        "    def track_loss(self, loss ,batch):\n",
        "        self.epoch_loss += loss.item()\n",
        "\n",
        "    def track_Val_loss(self, Val_loss ,batch):\n",
        "        self.epoch_Val_loss += Val_loss.item()\n",
        "    '''\n",
        "    def track_num_correct(self, preds, labels):\n",
        "        self.epoch_num_correct += self._get_num_correct(preds, labels)\n",
        "\n",
        "##############################################################\n",
        "\n",
        "    @torch.no_grad()\n",
        "    def _get_num_correct(self, preds, labels): # private method\n",
        "        return preds.argmax(dim=1).eq(labels).sum().item()\n",
        "        '''\n",
        "################################################################\n",
        "\n",
        "    def save(self, fileName):       # save run data to .csv .json format\n",
        "\n",
        "        pd.DataFrame.from_dict(\n",
        "            self.run_data, orient='columns').to_csv(f'{fileName}.csv')\n",
        "\n",
        "        with open(f'{fileName}.json', 'w', encoding='utf-8') as f:\n",
        "            json.dump(self.run_data, f, ensure_ascii=False, indent=4)\n",
        "\n",
        "###############################################################"
      ],
      "execution_count": 16,
      "outputs": []
    },
    {
      "cell_type": "code",
      "metadata": {
        "id": "AvyREIiH9qnm"
      },
      "source": [
        "class Network(nn.Module):\n",
        "\n",
        "    def __init__(self, n_features, n_hidden, n_layers):\n",
        "        super(Network, self).__init__()\n",
        "\n",
        "        self.n_features = n_features\n",
        "        self.n_hidden = n_hidden\n",
        "        self.n_layers = n_layers\n",
        "\n",
        "        self.lstm = nn.LSTM(input_size= n_features, hidden_size= n_hidden,\n",
        "                             num_layers = n_layers, batch_first = True,\n",
        "                             dropout = 0.3\n",
        "                             )\n",
        "            \n",
        "\n",
        "        self.linear1 = nn.Linear(in_features= n_hidden, out_features= 5)\n",
        "        self.linear2 = nn.Linear(in_features= 5, out_features= 1)\n",
        "\n",
        "    def forward(self, x):\n",
        "\n",
        "        h0 = torch.randn(self.n_layers, x.size(0), self.n_hidden).to('cuda')  # (batch_size= x.size(0) )\n",
        "        c0 = torch.randn(self.n_layers, x.size(0), self.n_hidden).to('cuda')\n",
        "        output, (hn, cn) = self.lstm(x, (h0, c0))\n",
        "        out = self.linear1(hn[0])\n",
        "        out = self.linear2(out)\n",
        "\n",
        "        return out"
      ],
      "execution_count": 17,
      "outputs": []
    },
    {
      "cell_type": "code",
      "metadata": {
        "id": "JPOfjbE7C66Z"
      },
      "source": [
        "train_set = CustomDataset(X_train, y_train, Transform= None)\n",
        "test_set = CustomDataset(X_test, y_test, Transform= None)"
      ],
      "execution_count": 40,
      "outputs": []
    },
    {
      "cell_type": "code",
      "metadata": {
        "id": "xvsZ36wb-Fv2"
      },
      "source": [
        "for layer in network.children():\n",
        "   if hasattr(layer, 'reset_parameters'):\n",
        "       layer.reset_parameters()"
      ],
      "execution_count": 41,
      "outputs": []
    },
    {
      "cell_type": "code",
      "metadata": {
        "colab": {
          "base_uri": "https://localhost:8080/",
          "height": 419
        },
        "id": "yQWEG4bmUoZd",
        "outputId": "2c52a5ab-2659-43c2-a959-248bdbb0ff72"
      },
      "source": [
        "params = OrderedDict(\n",
        "    lr = [0.000012]\n",
        "    ,batch_size = [128]\n",
        "    , num_workers = [0]        #,1,2 ,...\n",
        "    , device = ['cuda']\n",
        ")\n",
        "\n",
        "m = RunManager()\n",
        "\n",
        "for run in RunBuilder.get_runs(params):\n",
        "\n",
        "    device = torch.device(run.device)\n",
        "    network = Network(n_features=1 , n_hidden=128 , n_layers=2).to(device)\n",
        "\n",
        "    loader = DataLoader(train_set, batch_size = run.batch_size,\n",
        "                                           num_workers = run.num_workers,\n",
        "                                           drop_last=True,\n",
        "                                           shuffle=False) \n",
        "    \n",
        "    Val_loader = DataLoader(test_set, batch_size = run.batch_size,\n",
        "                                           num_workers = run.num_workers,\n",
        "                                           drop_last=True,\n",
        "                                           shuffle=False) \n",
        "    \n",
        "    optimizer = optim.Adam(params= network.parameters(), lr= run.lr)\n",
        "    loss_fn = torch.nn.MSELoss()\n",
        "\n",
        "    m.begin_run(run, network, loader, Val_loader)\n",
        "\n",
        "    for epoch in range(200):\n",
        "        m.begin_epoch()\n",
        "\n",
        "        network.train()\n",
        "        for batch in loader:\n",
        "            data = batch[0].to(device)\n",
        "            labels = batch[1].to(device)\n",
        "            preds = network(data)\n",
        "            loss = loss_fn(preds, labels)\n",
        "            optimizer.zero_grad()\n",
        "            loss.backward()\n",
        "            optimizer.step()\n",
        "\n",
        "            m.track_loss(loss, batch)\n",
        "\n",
        "        network.eval()\n",
        "        with torch.no_grad():\n",
        "            for batch in Val_loader:\n",
        "                data = batch[0].to(device)\n",
        "                labels = batch[1].to(device)\n",
        "                preds = network(data)\n",
        "                val_loss = loss_fn(preds, labels)\n",
        "\n",
        "                m.track_Val_loss(val_loss, batch)\n",
        "\n",
        "        m.end_epoch()\n",
        "    m.end_run()\n",
        "    \n",
        "#m.save('results')"
      ],
      "execution_count": 42,
      "outputs": [
        {
          "output_type": "display_data",
          "data": {
            "text/html": [
              "<div>\n",
              "<style scoped>\n",
              "    .dataframe tbody tr th:only-of-type {\n",
              "        vertical-align: middle;\n",
              "    }\n",
              "\n",
              "    .dataframe tbody tr th {\n",
              "        vertical-align: top;\n",
              "    }\n",
              "\n",
              "    .dataframe thead th {\n",
              "        text-align: right;\n",
              "    }\n",
              "</style>\n",
              "<table border=\"1\" class=\"dataframe\">\n",
              "  <thead>\n",
              "    <tr style=\"text-align: right;\">\n",
              "      <th></th>\n",
              "      <th>run</th>\n",
              "      <th>epoch</th>\n",
              "      <th>loss</th>\n",
              "      <th>Val_loss</th>\n",
              "      <th>epoch duration</th>\n",
              "      <th>run duration</th>\n",
              "      <th>lr</th>\n",
              "      <th>batch_size</th>\n",
              "      <th>num_workers</th>\n",
              "      <th>device</th>\n",
              "    </tr>\n",
              "  </thead>\n",
              "  <tbody>\n",
              "    <tr>\n",
              "      <th>0</th>\n",
              "      <td>1</td>\n",
              "      <td>1</td>\n",
              "      <td>637.098587</td>\n",
              "      <td>9.982454</td>\n",
              "      <td>7.760103</td>\n",
              "      <td>7.819700</td>\n",
              "      <td>0.000012</td>\n",
              "      <td>128</td>\n",
              "      <td>0</td>\n",
              "      <td>cuda</td>\n",
              "    </tr>\n",
              "    <tr>\n",
              "      <th>1</th>\n",
              "      <td>1</td>\n",
              "      <td>2</td>\n",
              "      <td>114.999563</td>\n",
              "      <td>7.667658</td>\n",
              "      <td>7.832330</td>\n",
              "      <td>15.785179</td>\n",
              "      <td>0.000012</td>\n",
              "      <td>128</td>\n",
              "      <td>0</td>\n",
              "      <td>cuda</td>\n",
              "    </tr>\n",
              "    <tr>\n",
              "      <th>2</th>\n",
              "      <td>1</td>\n",
              "      <td>3</td>\n",
              "      <td>77.745535</td>\n",
              "      <td>4.032227</td>\n",
              "      <td>7.700713</td>\n",
              "      <td>23.628120</td>\n",
              "      <td>0.000012</td>\n",
              "      <td>128</td>\n",
              "      <td>0</td>\n",
              "      <td>cuda</td>\n",
              "    </tr>\n",
              "    <tr>\n",
              "      <th>3</th>\n",
              "      <td>1</td>\n",
              "      <td>4</td>\n",
              "      <td>28.973164</td>\n",
              "      <td>1.366753</td>\n",
              "      <td>7.719661</td>\n",
              "      <td>31.486602</td>\n",
              "      <td>0.000012</td>\n",
              "      <td>128</td>\n",
              "      <td>0</td>\n",
              "      <td>cuda</td>\n",
              "    </tr>\n",
              "    <tr>\n",
              "      <th>4</th>\n",
              "      <td>1</td>\n",
              "      <td>5</td>\n",
              "      <td>12.975648</td>\n",
              "      <td>0.821335</td>\n",
              "      <td>7.719641</td>\n",
              "      <td>39.347172</td>\n",
              "      <td>0.000012</td>\n",
              "      <td>128</td>\n",
              "      <td>0</td>\n",
              "      <td>cuda</td>\n",
              "    </tr>\n",
              "    <tr>\n",
              "      <th>...</th>\n",
              "      <td>...</td>\n",
              "      <td>...</td>\n",
              "      <td>...</td>\n",
              "      <td>...</td>\n",
              "      <td>...</td>\n",
              "      <td>...</td>\n",
              "      <td>...</td>\n",
              "      <td>...</td>\n",
              "      <td>...</td>\n",
              "      <td>...</td>\n",
              "    </tr>\n",
              "    <tr>\n",
              "      <th>195</th>\n",
              "      <td>1</td>\n",
              "      <td>196</td>\n",
              "      <td>0.041506</td>\n",
              "      <td>0.004132</td>\n",
              "      <td>7.899637</td>\n",
              "      <td>1541.783829</td>\n",
              "      <td>0.000012</td>\n",
              "      <td>128</td>\n",
              "      <td>0</td>\n",
              "      <td>cuda</td>\n",
              "    </tr>\n",
              "    <tr>\n",
              "      <th>196</th>\n",
              "      <td>1</td>\n",
              "      <td>197</td>\n",
              "      <td>0.041291</td>\n",
              "      <td>0.004103</td>\n",
              "      <td>7.871723</td>\n",
              "      <td>1549.797556</td>\n",
              "      <td>0.000012</td>\n",
              "      <td>128</td>\n",
              "      <td>0</td>\n",
              "      <td>cuda</td>\n",
              "    </tr>\n",
              "    <tr>\n",
              "      <th>197</th>\n",
              "      <td>1</td>\n",
              "      <td>198</td>\n",
              "      <td>0.041160</td>\n",
              "      <td>0.004082</td>\n",
              "      <td>8.012267</td>\n",
              "      <td>1557.952713</td>\n",
              "      <td>0.000012</td>\n",
              "      <td>128</td>\n",
              "      <td>0</td>\n",
              "      <td>cuda</td>\n",
              "    </tr>\n",
              "    <tr>\n",
              "      <th>198</th>\n",
              "      <td>1</td>\n",
              "      <td>199</td>\n",
              "      <td>0.040856</td>\n",
              "      <td>0.004064</td>\n",
              "      <td>7.933094</td>\n",
              "      <td>1566.037757</td>\n",
              "      <td>0.000012</td>\n",
              "      <td>128</td>\n",
              "      <td>0</td>\n",
              "      <td>cuda</td>\n",
              "    </tr>\n",
              "    <tr>\n",
              "      <th>199</th>\n",
              "      <td>1</td>\n",
              "      <td>200</td>\n",
              "      <td>0.040746</td>\n",
              "      <td>0.004042</td>\n",
              "      <td>7.854281</td>\n",
              "      <td>1574.035421</td>\n",
              "      <td>0.000012</td>\n",
              "      <td>128</td>\n",
              "      <td>0</td>\n",
              "      <td>cuda</td>\n",
              "    </tr>\n",
              "  </tbody>\n",
              "</table>\n",
              "<p>200 rows × 10 columns</p>\n",
              "</div>"
            ],
            "text/plain": [
              "     run  epoch        loss  Val_loss  ...        lr  batch_size  num_workers  device\n",
              "0      1      1  637.098587  9.982454  ...  0.000012         128            0    cuda\n",
              "1      1      2  114.999563  7.667658  ...  0.000012         128            0    cuda\n",
              "2      1      3   77.745535  4.032227  ...  0.000012         128            0    cuda\n",
              "3      1      4   28.973164  1.366753  ...  0.000012         128            0    cuda\n",
              "4      1      5   12.975648  0.821335  ...  0.000012         128            0    cuda\n",
              "..   ...    ...         ...       ...  ...       ...         ...          ...     ...\n",
              "195    1    196    0.041506  0.004132  ...  0.000012         128            0    cuda\n",
              "196    1    197    0.041291  0.004103  ...  0.000012         128            0    cuda\n",
              "197    1    198    0.041160  0.004082  ...  0.000012         128            0    cuda\n",
              "198    1    199    0.040856  0.004064  ...  0.000012         128            0    cuda\n",
              "199    1    200    0.040746  0.004042  ...  0.000012         128            0    cuda\n",
              "\n",
              "[200 rows x 10 columns]"
            ]
          },
          "metadata": {
            "tags": []
          }
        }
      ]
    },
    {
      "cell_type": "code",
      "metadata": {
        "id": "haMrUh0dtZU6"
      },
      "source": [
        "# Save and load the entire model\n",
        "torch.save(network, '/content/drive/MyDrive/FIDVR_Models/model_sarayan3.ckpt')\n",
        "#network = torch.load('model_asadabad3.ckpt')\n",
        "\n",
        "# Save and load only the model parameters (recommended)\n",
        "torch.save(network.state_dict(), '/content/drive/MyDrive/FIDVR_Models/params_sarayan3.ckpt')\n",
        "#network.load_state_dict(torch.load('params.ckpt'))"
      ],
      "execution_count": 36,
      "outputs": []
    },
    {
      "cell_type": "code",
      "metadata": {
        "id": "TYQr3gU_Uobf"
      },
      "source": [
        "# Tensorboard\n",
        "%load_ext tensorboard\n",
        "%tensorboard  --logdir=runs"
      ],
      "execution_count": null,
      "outputs": []
    },
    {
      "cell_type": "code",
      "metadata": {
        "id": "mA7POPPOUod9"
      },
      "source": [
        "df = pd.read_csv('/content/drive/MyDrive/dataset/Oneshot_Test4.csv')\n",
        "data = df.to_numpy()\n",
        "t = data[:, 0]\n",
        "data = data[:,160]   #158"
      ],
      "execution_count": 59,
      "outputs": []
    },
    {
      "cell_type": "code",
      "metadata": {
        "id": "HXJzY0qvrQWE"
      },
      "source": [
        "tst = torch.tensor(data[0:35], dtype=torch.float32).reshape(1,35,1).to('cuda')"
      ],
      "execution_count": 60,
      "outputs": []
    },
    {
      "cell_type": "code",
      "metadata": {
        "id": "tqaI-9P0rQYI"
      },
      "source": [
        "preds = []\n",
        "network.eval()\n",
        "with torch.no_grad():\n",
        "    \n",
        "    pred = network(tst)\n",
        "    preds.append(pred.squeeze().item())\n",
        "    #print(preds)\n",
        "\n",
        "    for i in range(60):\n",
        "        tst = torch.roll(tst, -1, 1)\n",
        "        tst[0,34,0] = pred.squeeze().item()\n",
        "        #print(tst)\n",
        "        pred = network(tst)\n",
        "        preds.append(pred.squeeze().item())"
      ],
      "execution_count": 61,
      "outputs": []
    },
    {
      "cell_type": "code",
      "metadata": {
        "colab": {
          "base_uri": "https://localhost:8080/",
          "height": 382
        },
        "id": "rd5VAkvOrQbQ",
        "outputId": "3a286aa6-667d-4458-abf1-d4443a1edd7f"
      },
      "source": [
        "plt.figure(figsize=(8,5))\n",
        "plt.plot(t[0:96], data[0:96], label='True', c='darkred')\n",
        "plt.plot(t[35:96], preds, label='Predicted', c='darkblue')\n",
        "plt.title('FIDVR_Inex For AssadAbad3', c='darkgreen', fontsize = 17)\n",
        "plt.xlabel('Time(s)', fontsize = 17, c='brown')\n",
        "plt.ylabel('Index', fontsize = 17, c='brown')\n",
        "#plt.ylim((-1.5, 1.5))\n",
        "plt.legend()\n"
      ],
      "execution_count": 62,
      "outputs": [
        {
          "output_type": "execute_result",
          "data": {
            "text/plain": [
              "<matplotlib.legend.Legend at 0x7f95b737eb90>"
            ]
          },
          "metadata": {
            "tags": []
          },
          "execution_count": 62
        },
        {
          "output_type": "display_data",
          "data": {
            "image/png": "[encoded data removed]",
            "text/plain": [
              "<Figure size 576x360 with 1 Axes>"
            ]
          },
          "metadata": {
            "tags": [],
            "image/png": {
              "width": 511,
              "height": 348
            }
          }
        }
      ]
    }
  ]
}