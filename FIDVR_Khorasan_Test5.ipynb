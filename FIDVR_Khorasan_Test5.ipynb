{
  "nbformat": 4,
  "nbformat_minor": 0,
  "metadata": {
    "colab": {
      "name": "FIDVR_Khorasan_Test5.ipynb",
      "provenance": [],
      "collapsed_sections": [],
      "authorship_tag": "ABX9TyOYMUPTb63X/NDgnW0y7VSj",
      "include_colab_link": true
    },
    "kernelspec": {
      "name": "python3",
      "display_name": "Python 3"
    },
    "language_info": {
      "name": "python"
    },
    "accelerator": "GPU"
  },
  "cells": [
    {
      "cell_type": "markdown",
      "metadata": {
        "id": "view-in-github",
        "colab_type": "text"
      },
      "source": [
        "<a href=\"https://colab.research.google.com/github/mahmoudta74/FIDVR/blob/main/FIDVR_Khorasan_Test5.ipynb\" target=\"_parent\"><img src=\"https://colab.research.google.com/assets/colab-badge.svg\" alt=\"Open In Colab\"/></a>"
      ]
    },
    {
      "cell_type": "code",
      "metadata": {
        "colab": {
          "base_uri": "https://localhost:8080/"
        },
        "id": "LHb4iZ3HchxJ",
        "outputId": "05cd8a2e-f1df-49c6-9b05-131a79612dad"
      },
      "source": [
        "import numpy as np\n",
        "import pandas as pd\n",
        "import seaborn as sns\n",
        "from pylab import rcParams\n",
        "import matplotlib.pyplot as plt\n",
        "from matplotlib import rc\n",
        "\n",
        "from torch.utils.tensorboard import SummaryWriter\n",
        "%load_ext tensorboard\n",
        "%matplotlib inline\n",
        "from IPython.display import display, clear_output\n",
        "import pandas as pd\n",
        "import time\n",
        "import json\n",
        "\n",
        "from sklearn.preprocessing import MinMaxScaler\n",
        "from pandas.plotting import register_matplotlib_converters\n",
        "from tqdm.notebook import tqdm\n",
        "\n",
        "import torch\n",
        "import torchvision\n",
        "import torchvision.transforms as transforms\n",
        "from torch.utils.data import Dataset, DataLoader\n",
        "\n",
        "import torch.nn as nn\n",
        "import torch.optim as optim\n",
        "import torch.nn.functional as F\n",
        "\n",
        "import torch.optim as optim\n",
        "\n",
        "torch.set_printoptions(linewidth=120) #Disply Option for output\n",
        "torch.set_grad_enabled(True)          # already on by default\\\n",
        "\n",
        "\n",
        "%matplotlib inline\n",
        "%config InlineBackend.figure_format='retina'\n",
        "\n",
        "sns.set(style='whitegrid', palette='muted', font_scale=1.2)\n",
        "\n",
        "HAPPY_COLORS_PALETTE = [\"#01BEFE\", \"#FFDD00\", \"#FF7D00\", \"#FF006D\", \"#93D30C\", \"#8F00FF\"]\n",
        "\n",
        "sns.set_palette(sns.color_palette(HAPPY_COLORS_PALETTE))\n",
        "\n",
        "rcParams['figure.figsize'] = 14, 10\n",
        "register_matplotlib_converters()\n",
        "\n",
        "RANDOM_SEED = 42\n",
        "np.random.seed(RANDOM_SEED)\n",
        "torch.manual_seed(RANDOM_SEED)"
      ],
      "execution_count": 1,
      "outputs": [
        {
          "output_type": "execute_result",
          "data": {
            "text/plain": [
              "<torch._C.Generator at 0x7fb5bb77b5d0>"
            ]
          },
          "metadata": {
            "tags": []
          },
          "execution_count": 1
        }
      ]
    },
    {
      "cell_type": "code",
      "metadata": {
        "colab": {
          "base_uri": "https://localhost:8080/"
        },
        "id": "ZuJSLQpNclET",
        "outputId": "4c7646dc-a6b5-4f04-8fa2-a862cd029a5f"
      },
      "source": [
        "!nvidia-smi"
      ],
      "execution_count": 2,
      "outputs": [
        {
          "output_type": "stream",
          "text": [
            "Thu Jun 17 06:16:54 2021       \n",
            "+-----------------------------------------------------------------------------+\n",
            "| NVIDIA-SMI 465.27       Driver Version: 460.32.03    CUDA Version: 11.2     |\n",
            "|-------------------------------+----------------------+----------------------+\n",
            "| GPU  Name        Persistence-M| Bus-Id        Disp.A | Volatile Uncorr. ECC |\n",
            "| Fan  Temp  Perf  Pwr:Usage/Cap|         Memory-Usage | GPU-Util  Compute M. |\n",
            "|                               |                      |               MIG M. |\n",
            "|===============================+======================+======================|\n",
            "|   0  Tesla T4            Off  | 00000000:00:04.0 Off |                    0 |\n",
            "| N/A   63C    P8    10W /  70W |      0MiB / 15109MiB |      0%      Default |\n",
            "|                               |                      |                  N/A |\n",
            "+-------------------------------+----------------------+----------------------+\n",
            "                                                                               \n",
            "+-----------------------------------------------------------------------------+\n",
            "| Processes:                                                                  |\n",
            "|  GPU   GI   CI        PID   Type   Process name                  GPU Memory |\n",
            "|        ID   ID                                                   Usage      |\n",
            "|=============================================================================|\n",
            "|  No running processes found                                                 |\n",
            "+-----------------------------------------------------------------------------+\n"
          ],
          "name": "stdout"
        }
      ]
    },
    {
      "cell_type": "code",
      "metadata": {
        "colab": {
          "base_uri": "https://localhost:8080/"
        },
        "id": "7rL_jFqsclOa",
        "outputId": "6830a270-fc41-4d2c-de4b-a95c4c8913f8"
      },
      "source": [
        "from google.colab import drive\n",
        "drive.mount('/content/drive')"
      ],
      "execution_count": 3,
      "outputs": [
        {
          "output_type": "stream",
          "text": [
            "Mounted at /content/drive\n"
          ],
          "name": "stdout"
        }
      ]
    },
    {
      "cell_type": "code",
      "metadata": {
        "colab": {
          "base_uri": "https://localhost:8080/"
        },
        "id": "1kLyEZyeclRc",
        "outputId": "89157941-e62f-4ffc-95d7-a2fe62e1a226"
      },
      "source": [
        "print(torch.__version__)\n",
        "print(torchvision.__version__)"
      ],
      "execution_count": 4,
      "outputs": [
        {
          "output_type": "stream",
          "text": [
            "1.8.1+cu101\n",
            "0.9.1+cu101\n"
          ],
          "name": "stdout"
        }
      ]
    },
    {
      "cell_type": "code",
      "metadata": {
        "colab": {
          "base_uri": "https://localhost:8080/"
        },
        "id": "jm1RToJNcoxE",
        "outputId": "31c20757-6393-4530-9764-4851903d963e"
      },
      "source": [
        "# checking for GPU\n",
        "torch.cuda.is_available()"
      ],
      "execution_count": 5,
      "outputs": [
        {
          "output_type": "execute_result",
          "data": {
            "text/plain": [
              "True"
            ]
          },
          "metadata": {
            "tags": []
          },
          "execution_count": 5
        }
      ]
    },
    {
      "cell_type": "code",
      "metadata": {
        "id": "8ko5UmfjcozO"
      },
      "source": [
        "df1 = pd.read_csv('/content/drive/MyDrive/dataset/Main_Dataset.csv')\n",
        "df2 = pd.read_csv('/content/drive/MyDrive/dataset/result_rms1.csv')\n",
        "\n",
        "data1 = df1.to_numpy()\n",
        "data2 = df2.to_numpy()"
      ],
      "execution_count": 6,
      "outputs": []
    },
    {
      "cell_type": "code",
      "metadata": {
        "id": "dvMrEk16co1r"
      },
      "source": [
        "def create_sequences(time, data, seq_length, num_run):\n",
        "    xs = []\n",
        "    ys = []\n",
        "    t = time[0]\n",
        "    j = 0\n",
        "\n",
        "    for i in range(len(data) - (seq_length*num_run - num_run)):\n",
        "\n",
        "        if t == 0:\n",
        "            if j==0:\n",
        "                x = data[j : (j + seq_length)]\n",
        "                y = data[(j+ seq_length)]\n",
        "                xs.append(x)\n",
        "                ys.append(y)\n",
        "                j = j+seq_length\n",
        "                t = time[j]\n",
        "            else:\n",
        "                x = data[j+1 : (j+1 + seq_length)]\n",
        "                y = data[(j+1+ seq_length)]\n",
        "                xs.append(x)\n",
        "                ys.append(y)\n",
        "                j = j+seq_length\n",
        "                t = time[j]\n",
        "\n",
        "\n",
        "        else:\n",
        "            x = data[j+1-seq_length : j+1]\n",
        "            y = data[j+1]\n",
        "            xs.append(x)\n",
        "            ys.append(y)\n",
        "            j = j+1\n",
        "            t = time[j+1]\n",
        "\n",
        "    return np.array(xs), np.array(ys)"
      ],
      "execution_count": 7,
      "outputs": []
    },
    {
      "cell_type": "code",
      "metadata": {
        "id": "GQwaCjUyclUL"
      },
      "source": [
        "seq_length = 35\n",
        "time1 = data1[:,0]\n",
        "time2 = data2[:,0]\n",
        "\n",
        "X_train = []\n",
        "y_train = []\n",
        "X_test = []\n",
        "y_test = []\n",
        "\n",
        "for i in range(123, 123+61, 1):\n",
        "    \n",
        "    x_tr, y_tr   = create_sequences(time1,  data1[: , i].reshape(-1, 1), seq_length, num_run=1050)\n",
        "    x_ts , y_ts  = create_sequences(time2,  data2[: , i].reshape(-1, 1), seq_length, num_run=105)\n",
        "\n",
        "    X_train.append(x_tr)\n",
        "    y_train.append(y_tr)\n",
        "    X_test.append(x_ts)\n",
        "    y_test.append(y_ts)\n",
        "\n",
        "X_train = np.array(X_train)\n",
        "y_train = np.array(y_train)\n",
        "X_test  = np.array(X_test)\n",
        "y_test  = np.array(y_test)"
      ],
      "execution_count": 8,
      "outputs": []
    },
    {
      "cell_type": "code",
      "metadata": {
        "colab": {
          "base_uri": "https://localhost:8080/"
        },
        "id": "xD82uBlec3js",
        "outputId": "52e21a21-17b3-4fb9-95d8-1c421b50e49f"
      },
      "source": [
        "X_train = X_train.reshape(X_train.shape[0]*X_train.shape[1] , seq_length, 1)\n",
        "X_test  = X_test.reshape (X_test.shape[0]*X_test.shape[1]   , seq_length, 1)\n",
        "\n",
        "y_train = y_train.reshape(y_train.shape[0]*y_train.shape[1] , 1)\n",
        "y_test  = y_test.reshape (y_test.shape[0]*y_test.shape[1]   , 1)\n",
        "\n",
        "print(X_train.shape,'\\t', y_train.shape)\n",
        "print(X_test.shape,'\\t', y_test.shape)"
      ],
      "execution_count": 9,
      "outputs": [
        {
          "output_type": "stream",
          "text": [
            "(5572411, 35, 1) \t (5572411, 1)\n",
            "(522160, 35, 1) \t (522160, 1)\n"
          ],
          "name": "stdout"
        }
      ]
    },
    {
      "cell_type": "code",
      "metadata": {
        "id": "W1sT7tLgc3l8"
      },
      "source": [
        "# You should build your custom dataset as below.\n",
        "class CustomDataset(torch.utils.data.Dataset):\n",
        "    def __init__(self, Data, target, Transform= None):\n",
        "        self.data = Data\n",
        "        self.label = target\n",
        "        self.Transform = Transform\n",
        "        \n",
        "    def __getitem__(self, index):\n",
        "        #r = self.data.iloc[index]\n",
        "        label = torch.tensor(self.label[index], dtype= torch.float32)  \n",
        "        sample = torch.tensor(self.data[index], dtype= torch.float32)\n",
        "        if self.Transform:\n",
        "            sample = self.Transform(sample)\n",
        "        return (sample, label)\n",
        "\n",
        "    def __len__(self):\n",
        "        return self.data.shape[0]\n"
      ],
      "execution_count": 10,
      "outputs": []
    },
    {
      "cell_type": "code",
      "metadata": {
        "id": "Fno3qwVEc3oM"
      },
      "source": [
        "from collections import OrderedDict\n",
        "from collections import namedtuple\n",
        "from itertools import product"
      ],
      "execution_count": 11,
      "outputs": []
    },
    {
      "cell_type": "code",
      "metadata": {
        "id": "-SkIaz8hc3qx"
      },
      "source": [
        "class RunBuilder():\n",
        "  @staticmethod       #Since the get_runs() method is static,\n",
        "                      #we can call it using the class itself. We don't need an instance of the class.\n",
        "  def get_runs(params):                \n",
        "\n",
        "    Run = namedtuple('Run', params.keys()) #This line creates a new tuple subclass called Run that has named fields.\n",
        "                                            # This Run class is used to encapsulate the data for each of our runs.\n",
        "                                            # The field names of this class are set by the list of names passed to the \n",
        "                                            # constructor. First, we are passing the class name. Then,\n",
        "                                            # we are passing the field names,\n",
        "                                            # and in our case, we are passing the list of keys from our dictionary.\n",
        "\n",
        "#Now that we have a class for our runs, we are ready to create some.\n",
        "    runs = []\n",
        "    for v in product(*params.values()):  #  v is a tuple like (0.01, 64, 'cuda')\n",
        "      runs.append(Run(*v))               # *v is \n",
        "      \n",
        "    return runs"
      ],
      "execution_count": 12,
      "outputs": []
    },
    {
      "cell_type": "code",
      "metadata": {
        "id": "6YQFnfrcc3tM"
      },
      "source": [
        "class RunManager():\n",
        "  \n",
        "    def __init__(self):\n",
        "\n",
        "        self.epoch_count = 0           # The number of epochs.\n",
        "        self.epoch_loss = 0            # The running loss for an epoch.\n",
        "        self.epoch_Val_loss = 0\n",
        "        self.epoch_start_time = None   # The start time of the epoch.\n",
        "\n",
        "        self.run_params = None         # This is the run definition in terms for the run parameters\n",
        "        self.run_count = 0             # gives us the run number.\n",
        "        self.run_start_time = None\n",
        "        self.run_data = []             #  is a list we'll use to keep track of the parameter values and the\n",
        "                                        # results of each epoch for each run and so we'll see that we\n",
        "                                        # add a value to this list for each epoch\n",
        "\n",
        "        self.network = None\n",
        "        self.loader = None\n",
        "        self.Val_loader = None\n",
        "        self.tb = None\n",
        "\n",
        "#######################################################\n",
        "\n",
        "    def begin_run(self, run, network, loader, Val_loader):\n",
        "\n",
        "        self.run_start_time = time.time()\n",
        "\n",
        "        self.run_params = run\n",
        "        self.run_count += 1\n",
        "\n",
        "        self.network = network\n",
        "        self.loader = loader\n",
        "        self.Val_loader = Val_loader\n",
        "        self.tb = SummaryWriter(comment=f'-{run}') # passing run as an comment argument to SummaryWriter\n",
        "\n",
        "        data, labels = next(iter(self.loader))\n",
        "        #grid = torchvision.utils.make_grid(images)\n",
        "\n",
        "        #self.tb.add_image('images', grid)\n",
        "        self.tb.add_graph(self.network, data.to(getattr(run, 'device', 'cpu')))\n",
        "\n",
        "############################################################\n",
        "\n",
        "    def end_run(self):\n",
        "        self.tb.close()\n",
        "        self.epoch_count = 0\n",
        "\n",
        "########################################################3##3\n",
        "\n",
        "    def begin_epoch(self):\n",
        "        self.epoch_start_time = time.time()\n",
        "\n",
        "        self.epoch_count += 1\n",
        "        self.epoch_loss = 0\n",
        "        self.epoch_Val_loss = 0\n",
        "\n",
        "##############################################################3\n",
        "\n",
        "    def end_epoch(self):\n",
        "\n",
        "        epoch_duration = time.time() - self.epoch_start_time\n",
        "        run_duration = time.time() - self.run_start_time\n",
        "\n",
        "        loss = self.epoch_loss #/ len(self.loader.dataset)\n",
        "        Val_loss = self.epoch_Val_loss #\n",
        "\n",
        "        self.tb.add_scalar('Loss', loss, self.epoch_count)\n",
        "        self.tb.add_scalar('Val_Loss', Val_loss, self.epoch_count)\n",
        "\n",
        "        for name, param in self.network.named_parameters():\n",
        "            self.tb.add_histogram(name, param, self.epoch_count)\n",
        "            self.tb.add_histogram(f'{name}.grad', param.grad, self.epoch_count)\n",
        "\n",
        "\n",
        "        results = OrderedDict()\n",
        "        results[\"run\"] = self.run_count\n",
        "        results[\"epoch\"] = self.epoch_count\n",
        "        results['loss'] = loss\n",
        "        results[\"Val_loss\"] = Val_loss\n",
        "        results['epoch duration'] = epoch_duration\n",
        "        results['run duration'] = run_duration\n",
        "\n",
        "        for k,v in self.run_params._asdict().items(): results[k] = v\n",
        "\n",
        "        self.run_data.append(results)\n",
        "\n",
        "        df = pd.DataFrame.from_dict(self.run_data, orient='columns')\n",
        "\n",
        "        clear_output(wait=True)     # clear current output\n",
        "        display(df)                 # display new dataframe\n",
        "\n",
        "################################################################\n",
        "\n",
        "    def track_loss(self, loss ,batch):\n",
        "        self.epoch_loss += loss.item()\n",
        "\n",
        "    def track_Val_loss(self, Val_loss ,batch):\n",
        "        self.epoch_Val_loss += Val_loss.item()\n",
        "    '''\n",
        "    def track_num_correct(self, preds, labels):\n",
        "        self.epoch_num_correct += self._get_num_correct(preds, labels)\n",
        "\n",
        "##############################################################\n",
        "\n",
        "    @torch.no_grad()\n",
        "    def _get_num_correct(self, preds, labels): # private method\n",
        "        return preds.argmax(dim=1).eq(labels).sum().item()\n",
        "        '''\n",
        "################################################################\n",
        "\n",
        "    def save(self, fileName):       # save run data to .csv .json format\n",
        "\n",
        "        pd.DataFrame.from_dict(\n",
        "            self.run_data, orient='columns').to_csv(f'{fileName}.csv')\n",
        "\n",
        "        with open(f'{fileName}.json', 'w', encoding='utf-8') as f:\n",
        "            json.dump(self.run_data, f, ensure_ascii=False, indent=4)\n",
        "\n",
        "###############################################################"
      ],
      "execution_count": 13,
      "outputs": []
    },
    {
      "cell_type": "code",
      "metadata": {
        "id": "GF_yQuRUnAXF"
      },
      "source": [
        "class Network(nn.Module):\n",
        "\n",
        "    def __init__(self, n_features, n_hidden, n_layers):\n",
        "        super(Network, self).__init__()\n",
        "\n",
        "        self.n_features = n_features\n",
        "        self.n_hidden = n_hidden\n",
        "        self.n_layers = n_layers\n",
        "\n",
        "        self.lstm = nn.LSTM(input_size= n_features, hidden_size= n_hidden,\n",
        "                             num_layers = n_layers, batch_first = True,\n",
        "                             dropout = 0.3\n",
        "                             )\n",
        "            \n",
        "\n",
        "        self.linear1 = nn.Linear(in_features= n_hidden, out_features= 5)\n",
        "        self.linear2 = nn.Linear(in_features= 5, out_features= 1)\n",
        "\n",
        "    def forward(self, x):\n",
        "\n",
        "        h0 = torch.randn(self.n_layers, x.size(0), self.n_hidden).to('cuda')  # (batch_size= x.size(0) )\n",
        "        c0 = torch.randn(self.n_layers, x.size(0), self.n_hidden).to('cuda')\n",
        "        output, (hn, cn) = self.lstm(x, (h0, c0))\n",
        "        out = self.linear1(hn[0])\n",
        "        out = self.linear2(out)\n",
        "\n",
        "        return out"
      ],
      "execution_count": 14,
      "outputs": []
    },
    {
      "cell_type": "code",
      "metadata": {
        "id": "ES5-rO5anAZX"
      },
      "source": [
        "train_set = CustomDataset(X_train, y_train, Transform= None)\n",
        "test_set = CustomDataset(X_test, y_test, Transform= None)"
      ],
      "execution_count": 15,
      "outputs": []
    },
    {
      "cell_type": "code",
      "metadata": {
        "id": "cbBp_llTnAbk"
      },
      "source": [
        "for layer in network.children():\n",
        "   if hasattr(layer, 'reset_parameters'):\n",
        "       layer.reset_parameters()"
      ],
      "execution_count": null,
      "outputs": []
    },
    {
      "cell_type": "code",
      "metadata": {
        "colab": {
          "base_uri": "https://localhost:8080/",
          "height": 204
        },
        "id": "T7JwOFwrnAdy",
        "outputId": "f999b6b0-cae3-4fa5-dc39-be0cc7c05fe3"
      },
      "source": [
        "params = OrderedDict(\n",
        "    lr = [0.0001]\n",
        "    ,batch_size = [128]\n",
        "    , num_workers = [0]        #,1,2 ,...\n",
        "    , device = ['cuda']\n",
        ")\n",
        "\n",
        "m = RunManager()\n",
        "\n",
        "for run in RunBuilder.get_runs(params):\n",
        "\n",
        "    device = torch.device(run.device)\n",
        "    network = Network(n_features=1 , n_hidden=128 , n_layers=2).to(device)\n",
        "\n",
        "    loader = DataLoader(train_set, batch_size = run.batch_size,\n",
        "                                           num_workers = run.num_workers,\n",
        "                                           drop_last=True,\n",
        "                                           shuffle=False) \n",
        "    \n",
        "    Val_loader = DataLoader(test_set, batch_size = run.batch_size,\n",
        "                                           num_workers = run.num_workers,\n",
        "                                           drop_last=True,\n",
        "                                           shuffle=False) \n",
        "    \n",
        "    lr = run.lr\n",
        "    optimizer = optim.Adam(params= network.parameters(), lr= lr)\n",
        "    loss_fn = torch.nn.MSELoss()\n",
        "\n",
        "    m.begin_run(run, network, loader, Val_loader)\n",
        "\n",
        "    for epoch in range(5):\n",
        "        '''\n",
        "        if (epoch+1 % 20) == 0:\n",
        "            lr = lr/10\n",
        "            optimizer = optim.Adam(params= network.parameters(), lr= lr)\n",
        "        '''\n",
        "        m.begin_epoch()\n",
        "\n",
        "        network.train()\n",
        "        for batch in loader:\n",
        "            data = batch[0].to(device)\n",
        "            labels = batch[1].to(device)\n",
        "            preds = network(data)\n",
        "            loss = loss_fn(preds, labels)\n",
        "            optimizer.zero_grad()\n",
        "            loss.backward()\n",
        "            optimizer.step()\n",
        "\n",
        "            m.track_loss(loss, batch)\n",
        "\n",
        "        network.eval()\n",
        "        with torch.no_grad():\n",
        "            for batch in Val_loader:\n",
        "                data = batch[0].to(device)\n",
        "                labels = batch[1].to(device)\n",
        "                preds = network(data)\n",
        "                val_loss = loss_fn(preds, labels)\n",
        "\n",
        "                m.track_Val_loss(val_loss, batch)\n",
        "\n",
        "        m.end_epoch()\n",
        "    m.end_run()\n",
        "    \n",
        "#m.save('results')"
      ],
      "execution_count": 16,
      "outputs": [
        {
          "output_type": "display_data",
          "data": {
            "text/html": [
              "<div>\n",
              "<style scoped>\n",
              "    .dataframe tbody tr th:only-of-type {\n",
              "        vertical-align: middle;\n",
              "    }\n",
              "\n",
              "    .dataframe tbody tr th {\n",
              "        vertical-align: top;\n",
              "    }\n",
              "\n",
              "    .dataframe thead th {\n",
              "        text-align: right;\n",
              "    }\n",
              "</style>\n",
              "<table border=\"1\" class=\"dataframe\">\n",
              "  <thead>\n",
              "    <tr style=\"text-align: right;\">\n",
              "      <th></th>\n",
              "      <th>run</th>\n",
              "      <th>epoch</th>\n",
              "      <th>loss</th>\n",
              "      <th>Val_loss</th>\n",
              "      <th>epoch duration</th>\n",
              "      <th>run duration</th>\n",
              "      <th>lr</th>\n",
              "      <th>batch_size</th>\n",
              "      <th>num_workers</th>\n",
              "      <th>device</th>\n",
              "    </tr>\n",
              "  </thead>\n",
              "  <tbody>\n",
              "    <tr>\n",
              "      <th>0</th>\n",
              "      <td>1</td>\n",
              "      <td>1</td>\n",
              "      <td>87.644014</td>\n",
              "      <td>0.705952</td>\n",
              "      <td>408.391412</td>\n",
              "      <td>410.278170</td>\n",
              "      <td>0.0001</td>\n",
              "      <td>128</td>\n",
              "      <td>0</td>\n",
              "      <td>cuda</td>\n",
              "    </tr>\n",
              "    <tr>\n",
              "      <th>1</th>\n",
              "      <td>1</td>\n",
              "      <td>2</td>\n",
              "      <td>3.440358</td>\n",
              "      <td>0.558184</td>\n",
              "      <td>463.152833</td>\n",
              "      <td>873.598127</td>\n",
              "      <td>0.0001</td>\n",
              "      <td>128</td>\n",
              "      <td>0</td>\n",
              "      <td>cuda</td>\n",
              "    </tr>\n",
              "    <tr>\n",
              "      <th>2</th>\n",
              "      <td>1</td>\n",
              "      <td>3</td>\n",
              "      <td>2.204270</td>\n",
              "      <td>0.378554</td>\n",
              "      <td>450.027280</td>\n",
              "      <td>1323.793432</td>\n",
              "      <td>0.0001</td>\n",
              "      <td>128</td>\n",
              "      <td>0</td>\n",
              "      <td>cuda</td>\n",
              "    </tr>\n",
              "    <tr>\n",
              "      <th>3</th>\n",
              "      <td>1</td>\n",
              "      <td>4</td>\n",
              "      <td>1.524042</td>\n",
              "      <td>0.209291</td>\n",
              "      <td>453.569154</td>\n",
              "      <td>1777.511228</td>\n",
              "      <td>0.0001</td>\n",
              "      <td>128</td>\n",
              "      <td>0</td>\n",
              "      <td>cuda</td>\n",
              "    </tr>\n",
              "    <tr>\n",
              "      <th>4</th>\n",
              "      <td>1</td>\n",
              "      <td>5</td>\n",
              "      <td>1.115788</td>\n",
              "      <td>0.169233</td>\n",
              "      <td>408.884254</td>\n",
              "      <td>2186.550425</td>\n",
              "      <td>0.0001</td>\n",
              "      <td>128</td>\n",
              "      <td>0</td>\n",
              "      <td>cuda</td>\n",
              "    </tr>\n",
              "  </tbody>\n",
              "</table>\n",
              "</div>"
            ],
            "text/plain": [
              "   run  epoch       loss  Val_loss  ...      lr  batch_size  num_workers  device\n",
              "0    1      1  87.644014  0.705952  ...  0.0001         128            0    cuda\n",
              "1    1      2   3.440358  0.558184  ...  0.0001         128            0    cuda\n",
              "2    1      3   2.204270  0.378554  ...  0.0001         128            0    cuda\n",
              "3    1      4   1.524042  0.209291  ...  0.0001         128            0    cuda\n",
              "4    1      5   1.115788  0.169233  ...  0.0001         128            0    cuda\n",
              "\n",
              "[5 rows x 10 columns]"
            ]
          },
          "metadata": {
            "tags": []
          }
        }
      ]
    },
    {
      "cell_type": "code",
      "metadata": {
        "id": "weXFKtLnclWy"
      },
      "source": [
        "df = pd.read_csv('/content/drive/MyDrive/dataset/Oneshot_Test0.csv')\n",
        "data = df.to_numpy()\n",
        "t = data[:, 0]\n",
        "data = data[:,123]   "
      ],
      "execution_count": 25,
      "outputs": []
    },
    {
      "cell_type": "code",
      "metadata": {
        "id": "f1ULXBWVn7ia"
      },
      "source": [
        "tst = torch.tensor(data[0:35], dtype=torch.float32).reshape(1,35,1).to('cuda')"
      ],
      "execution_count": 26,
      "outputs": []
    },
    {
      "cell_type": "code",
      "metadata": {
        "id": "bRb6kBzKn7ku"
      },
      "source": [
        "preds = []\n",
        "network.eval()\n",
        "with torch.no_grad():\n",
        "    \n",
        "    pred = network(tst)\n",
        "    preds.append(pred.squeeze().item())\n",
        "    #print(preds)\n",
        "\n",
        "    for i in range(60):\n",
        "        tst = torch.roll(tst, -1, 1)\n",
        "        tst[0,34,0] = pred.squeeze().item()\n",
        "        #print(tst)\n",
        "        pred = network(tst)\n",
        "        preds.append(pred.squeeze().item())"
      ],
      "execution_count": 27,
      "outputs": []
    },
    {
      "cell_type": "code",
      "metadata": {
        "colab": {
          "base_uri": "https://localhost:8080/",
          "height": 382
        },
        "id": "vIBRiRRun7nZ",
        "outputId": "c2e63f57-32fc-49ed-930d-4878b5c86636"
      },
      "source": [
        "plt.figure(figsize=(8,5))\n",
        "plt.plot(t[0:96], data[0:96], label='True', c='darkred')\n",
        "plt.plot(t[35:96], preds, label='Predicted', c='darkblue')\n",
        "plt.title('FIDVR_Inex For AssadAbad3', c='darkgreen', fontsize = 17)\n",
        "plt.xlabel('Time(s)', fontsize = 17, c='brown')\n",
        "plt.ylabel('Index', fontsize = 17, c='brown')\n",
        "#plt.ylim((-1, 1.5))\n",
        "plt.legend()\n"
      ],
      "execution_count": 28,
      "outputs": [
        {
          "output_type": "execute_result",
          "data": {
            "text/plain": [
              "<matplotlib.legend.Legend at 0x7fb51e4a90d0>"
            ]
          },
          "metadata": {
            "tags": []
          },
          "execution_count": 28
        },
        {
          "output_type": "display_data",
          "data": {
            "image/png": "[encoded data removed]",
            "text/plain": [
              "<Figure size 576x360 with 1 Axes>"
            ]
          },
          "metadata": {
            "tags": [],
            "image/png": {
              "width": 522,
              "height": 348
            },
            "needs_background": "light"
          }
        }
      ]
    }
  ]
}