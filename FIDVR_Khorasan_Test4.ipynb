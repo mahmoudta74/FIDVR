{
  "nbformat": 4,
  "nbformat_minor": 0,
  "metadata": {
    "colab": {
      "name": "FIDVR_Khorasan_Test4.ipynb",
      "provenance": [],
      "collapsed_sections": [],
      "authorship_tag": "ABX9TyOXLGjp2xWmz5w+foxGzs3J",
      "include_colab_link": true
    },
    "kernelspec": {
      "name": "python3",
      "display_name": "Python 3"
    },
    "language_info": {
      "name": "python"
    },
    "accelerator": "GPU"
  },
  "cells": [
    {
      "cell_type": "markdown",
      "metadata": {
        "id": "view-in-github",
        "colab_type": "text"
      },
      "source": [
        "<a href=\"https://colab.research.google.com/github/mahmoudta74/FIDVR/blob/main/FIDVR_Khorasan_Test4.ipynb\" target=\"_parent\"><img src=\"https://colab.research.google.com/assets/colab-badge.svg\" alt=\"Open In Colab\"/></a>"
      ]
    },
    {
      "cell_type": "code",
      "metadata": {
        "colab": {
          "base_uri": "https://localhost:8080/"
        },
        "id": "bb03bpYy_IyE",
        "outputId": "757062ea-06aa-499d-f7b2-93f339f60350"
      },
      "source": [
        "import numpy as np\n",
        "import pandas as pd\n",
        "import seaborn as sns\n",
        "from pylab import rcParams\n",
        "import matplotlib.pyplot as plt\n",
        "from matplotlib import rc\n",
        "\n",
        "from torch.utils.tensorboard import SummaryWriter\n",
        "%load_ext tensorboard\n",
        "%matplotlib inline\n",
        "from IPython.display import display, clear_output\n",
        "import pandas as pd\n",
        "import time\n",
        "import json\n",
        "\n",
        "from sklearn.preprocessing import MinMaxScaler\n",
        "from pandas.plotting import register_matplotlib_converters\n",
        "from tqdm.notebook import tqdm\n",
        "\n",
        "import torch\n",
        "import torchvision\n",
        "import torchvision.transforms as transforms\n",
        "from torch.utils.data import Dataset, DataLoader\n",
        "\n",
        "import torch.nn as nn\n",
        "import torch.optim as optim\n",
        "import torch.nn.functional as F\n",
        "\n",
        "import torch.optim as optim\n",
        "\n",
        "torch.set_printoptions(linewidth=120) #Disply Option for output\n",
        "torch.set_grad_enabled(True)          # already on by default\\\n",
        "\n",
        "\n",
        "%matplotlib inline\n",
        "%config InlineBackend.figure_format='retina'\n",
        "\n",
        "sns.set(style='whitegrid', palette='muted', font_scale=1.2)\n",
        "\n",
        "HAPPY_COLORS_PALETTE = [\"#01BEFE\", \"#FFDD00\", \"#FF7D00\", \"#FF006D\", \"#93D30C\", \"#8F00FF\"]\n",
        "\n",
        "sns.set_palette(sns.color_palette(HAPPY_COLORS_PALETTE))\n",
        "\n",
        "rcParams['figure.figsize'] = 14, 10\n",
        "register_matplotlib_converters()\n",
        "\n",
        "RANDOM_SEED = 42\n",
        "np.random.seed(RANDOM_SEED)\n",
        "torch.manual_seed(RANDOM_SEED)"
      ],
      "execution_count": 1,
      "outputs": [
        {
          "output_type": "execute_result",
          "data": {
            "text/plain": [
              "<torch._C.Generator at 0x7f2abf9dc990>"
            ]
          },
          "metadata": {
            "tags": []
          },
          "execution_count": 1
        }
      ]
    },
    {
      "cell_type": "code",
      "metadata": {
        "colab": {
          "base_uri": "https://localhost:8080/"
        },
        "id": "PiRwDn3l_TH8",
        "outputId": "ca4dc9ce-5ab8-487c-e57f-495b8577a53b"
      },
      "source": [
        "!nvidia-smi"
      ],
      "execution_count": 2,
      "outputs": [
        {
          "output_type": "stream",
          "text": [
            "Thu Jun  3 08:30:46 2021       \n",
            "+-----------------------------------------------------------------------------+\n",
            "| NVIDIA-SMI 465.27       Driver Version: 460.32.03    CUDA Version: 11.2     |\n",
            "|-------------------------------+----------------------+----------------------+\n",
            "| GPU  Name        Persistence-M| Bus-Id        Disp.A | Volatile Uncorr. ECC |\n",
            "| Fan  Temp  Perf  Pwr:Usage/Cap|         Memory-Usage | GPU-Util  Compute M. |\n",
            "|                               |                      |               MIG M. |\n",
            "|===============================+======================+======================|\n",
            "|   0  Tesla K80           Off  | 00000000:00:04.0 Off |                    0 |\n",
            "| N/A   34C    P8    26W / 149W |      0MiB / 11441MiB |      0%      Default |\n",
            "|                               |                      |                  N/A |\n",
            "+-------------------------------+----------------------+----------------------+\n",
            "                                                                               \n",
            "+-----------------------------------------------------------------------------+\n",
            "| Processes:                                                                  |\n",
            "|  GPU   GI   CI        PID   Type   Process name                  GPU Memory |\n",
            "|        ID   ID                                                   Usage      |\n",
            "|=============================================================================|\n",
            "|  No running processes found                                                 |\n",
            "+-----------------------------------------------------------------------------+\n"
          ],
          "name": "stdout"
        }
      ]
    },
    {
      "cell_type": "code",
      "metadata": {
        "colab": {
          "base_uri": "https://localhost:8080/"
        },
        "id": "_vS4HS7-_TTb",
        "outputId": "d87d17ec-fcb9-4a9e-fb84-4b397230f374"
      },
      "source": [
        "from google.colab import drive\n",
        "drive.mount('/content/drive')"
      ],
      "execution_count": 3,
      "outputs": [
        {
          "output_type": "stream",
          "text": [
            "Mounted at /content/drive\n"
          ],
          "name": "stdout"
        }
      ]
    },
    {
      "cell_type": "code",
      "metadata": {
        "id": "qbvXuRQQ_TWR"
      },
      "source": [
        "df1 = pd.read_csv('/content/drive/MyDrive/dataset/Main_Dataset.csv')\n",
        "df2 = pd.read_csv('/content/drive/MyDrive/dataset/result_rms1.csv')\n",
        "\n",
        "data1 = df1.to_numpy()\n",
        "data2 = df2.to_numpy()"
      ],
      "execution_count": 4,
      "outputs": []
    },
    {
      "cell_type": "code",
      "metadata": {
        "colab": {
          "base_uri": "https://localhost:8080/"
        },
        "id": "s1Yc1Tip_TYq",
        "outputId": "d71e1345-cee1-43e6-a64e-c117bf95f64b"
      },
      "source": [
        "train_data = data1[: , 123:]\n",
        "test_data  = data2[: , 123:]\n",
        "\n",
        "print(f'train_data size = {train_data.shape}\\t test_data size = {test_data.shape}')"
      ],
      "execution_count": 5,
      "outputs": [
        {
          "output_type": "stream",
          "text": [
            "train_data size = (127051, 61)\t test_data size = (12130, 61)\n"
          ],
          "name": "stdout"
        }
      ]
    },
    {
      "cell_type": "code",
      "metadata": {
        "id": "jfG1xfRe_Tbi"
      },
      "source": [
        "def create_sequences(time, data, seq_length, num_run):\n",
        "    xs = []\n",
        "    ys = []\n",
        "    t = time[0]\n",
        "    j = 0\n",
        "\n",
        "    for i in range(len(data) - (seq_length*num_run - num_run)):\n",
        "\n",
        "        if t == 0:\n",
        "            if j==0:\n",
        "                x = data[j : (j + seq_length)]\n",
        "                y = data[(j+ seq_length)]\n",
        "                xs.append(x)\n",
        "                ys.append(y)\n",
        "                j = j+seq_length\n",
        "                t = time[j]\n",
        "            else:\n",
        "                x = data[j+1 : (j+1 + seq_length)]\n",
        "                y = data[(j+1+ seq_length)]\n",
        "                xs.append(x)\n",
        "                ys.append(y)\n",
        "                j = j+seq_length\n",
        "                t = time[j]\n",
        "\n",
        "\n",
        "        else:\n",
        "            x = data[j+1-seq_length : j+1]\n",
        "            y = data[j+1]\n",
        "            xs.append(x)\n",
        "            ys.append(y)\n",
        "            j = j+1\n",
        "            t = time[j+1]\n",
        "\n",
        "    return np.array(xs), np.array(ys)"
      ],
      "execution_count": 6,
      "outputs": []
    },
    {
      "cell_type": "code",
      "metadata": {
        "colab": {
          "base_uri": "https://localhost:8080/"
        },
        "id": "9BG7HjnO_TeT",
        "outputId": "33c9969f-8d07-40ff-ddcb-a91f28bc6011"
      },
      "source": [
        "seq_length = 35\n",
        "time1 = data1[:,0]\n",
        "time2 = data2[:,0]\n",
        "\n",
        "X_train, y_train = create_sequences(time1, train_data, seq_length , num_run=1050)\n",
        "X_test , y_test  = create_sequences(time2,  test_data , seq_length, num_run=105)\n",
        "\n",
        "print(X_train.shape,'\\t', y_train.shape)\n",
        "print(X_test.shape,'\\t', y_test.shape)"
      ],
      "execution_count": 7,
      "outputs": [
        {
          "output_type": "stream",
          "text": [
            "(91351, 35, 61) \t (91351, 61)\n",
            "(8560, 35, 61) \t (8560, 61)\n"
          ],
          "name": "stdout"
        }
      ]
    },
    {
      "cell_type": "code",
      "metadata": {
        "id": "NrL3ezCCAPWU"
      },
      "source": [
        "# You should build your custom dataset as below.\n",
        "class CustomDataset(torch.utils.data.Dataset):\n",
        "    def __init__(self, Data, target, Transform= None):\n",
        "        self.data = Data\n",
        "        self.label = target\n",
        "        self.Transform = Transform\n",
        "        \n",
        "    def __getitem__(self, index):\n",
        "        #r = self.data.iloc[index]\n",
        "        label = torch.tensor(self.label[index], dtype= torch.float32)  \n",
        "        sample = torch.tensor(self.data[index], dtype= torch.float32)\n",
        "        if self.Transform:\n",
        "            sample = self.Transform(sample)\n",
        "        return (sample, label)\n",
        "\n",
        "    def __len__(self):\n",
        "        return self.data.shape[0]\n"
      ],
      "execution_count": 8,
      "outputs": []
    },
    {
      "cell_type": "code",
      "metadata": {
        "id": "MRRxm4JHAPYt"
      },
      "source": [
        "from collections import OrderedDict\n",
        "from collections import namedtuple\n",
        "from itertools import product"
      ],
      "execution_count": 9,
      "outputs": []
    },
    {
      "cell_type": "code",
      "metadata": {
        "id": "MYOV4RdGAPbf"
      },
      "source": [
        "class RunBuilder():\n",
        "  @staticmethod       #Since the get_runs() method is static,\n",
        "                      #we can call it using the class itself. We don't need an instance of the class.\n",
        "  def get_runs(params):                \n",
        "\n",
        "    Run = namedtuple('Run', params.keys()) #This line creates a new tuple subclass called Run that has named fields.\n",
        "                                            # This Run class is used to encapsulate the data for each of our runs.\n",
        "                                            # The field names of this class are set by the list of names passed to the \n",
        "                                            # constructor. First, we are passing the class name. Then,\n",
        "                                            # we are passing the field names,\n",
        "                                            # and in our case, we are passing the list of keys from our dictionary.\n",
        "\n",
        "#Now that we have a class for our runs, we are ready to create some.\n",
        "    runs = []\n",
        "    for v in product(*params.values()):  #  v is a tuple like (0.01, 64, 'cuda')\n",
        "      runs.append(Run(*v))               # *v is \n",
        "      \n",
        "    return runs"
      ],
      "execution_count": 10,
      "outputs": []
    },
    {
      "cell_type": "code",
      "metadata": {
        "id": "zc6dO6bWAPd6"
      },
      "source": [
        "class RunManager():\n",
        "  \n",
        "    def __init__(self):\n",
        "\n",
        "        self.epoch_count = 0           # The number of epochs.\n",
        "        self.epoch_loss = 0            # The running loss for an epoch.\n",
        "        self.epoch_Val_loss = 0\n",
        "        self.epoch_start_time = None   # The start time of the epoch.\n",
        "\n",
        "        self.run_params = None         # This is the run definition in terms for the run parameters\n",
        "        self.run_count = 0             # gives us the run number.\n",
        "        self.run_start_time = None\n",
        "        self.run_data = []             #  is a list we'll use to keep track of the parameter values and the\n",
        "                                        # results of each epoch for each run and so we'll see that we\n",
        "                                        # add a value to this list for each epoch\n",
        "\n",
        "        self.network = None\n",
        "        self.loader = None\n",
        "        self.Val_loader = None\n",
        "        self.tb = None\n",
        "\n",
        "#######################################################\n",
        "\n",
        "    def begin_run(self, run, network, loader, Val_loader):\n",
        "\n",
        "        self.run_start_time = time.time()\n",
        "\n",
        "        self.run_params = run\n",
        "        self.run_count += 1\n",
        "\n",
        "        self.network = network\n",
        "        self.loader = loader\n",
        "        self.Val_loader = Val_loader\n",
        "        self.tb = SummaryWriter(comment=f'-{run}') # passing run as an comment argument to SummaryWriter\n",
        "\n",
        "        data, labels = next(iter(self.loader))\n",
        "        #grid = torchvision.utils.make_grid(images)\n",
        "\n",
        "        #self.tb.add_image('images', grid)\n",
        "        self.tb.add_graph(self.network, data.to(getattr(run, 'device', 'cpu')))\n",
        "\n",
        "############################################################\n",
        "\n",
        "    def end_run(self):\n",
        "        self.tb.close()\n",
        "        self.epoch_count = 0\n",
        "\n",
        "########################################################3##3\n",
        "\n",
        "    def begin_epoch(self):\n",
        "        self.epoch_start_time = time.time()\n",
        "\n",
        "        self.epoch_count += 1\n",
        "        self.epoch_loss = 0\n",
        "        self.epoch_Val_loss = 0\n",
        "\n",
        "##############################################################3\n",
        "\n",
        "    def end_epoch(self):\n",
        "\n",
        "        epoch_duration = time.time() - self.epoch_start_time\n",
        "        run_duration = time.time() - self.run_start_time\n",
        "\n",
        "        loss = self.epoch_loss #/ len(self.loader.dataset)\n",
        "        Val_loss = self.epoch_Val_loss #\n",
        "\n",
        "        self.tb.add_scalar('Loss', loss, self.epoch_count)\n",
        "        self.tb.add_scalar('Val_Loss', Val_loss, self.epoch_count)\n",
        "\n",
        "        for name, param in self.network.named_parameters():\n",
        "            self.tb.add_histogram(name, param, self.epoch_count)\n",
        "            self.tb.add_histogram(f'{name}.grad', param.grad, self.epoch_count)\n",
        "\n",
        "\n",
        "        results = OrderedDict()\n",
        "        results[\"run\"] = self.run_count\n",
        "        results[\"epoch\"] = self.epoch_count\n",
        "        results['loss'] = loss\n",
        "        results[\"Val_loss\"] = Val_loss\n",
        "        results['epoch duration'] = epoch_duration\n",
        "        results['run duration'] = run_duration\n",
        "\n",
        "        for k,v in self.run_params._asdict().items(): results[k] = v\n",
        "\n",
        "        self.run_data.append(results)\n",
        "\n",
        "        df = pd.DataFrame.from_dict(self.run_data, orient='columns')\n",
        "\n",
        "        clear_output(wait=True)     # clear current output\n",
        "        display(df)                 # display new dataframe\n",
        "\n",
        "################################################################\n",
        "\n",
        "    def track_loss(self, loss ,batch):\n",
        "        self.epoch_loss += loss.item()\n",
        "\n",
        "    def track_Val_loss(self, Val_loss ,batch):\n",
        "        self.epoch_Val_loss += Val_loss.item()\n",
        "    '''\n",
        "    def track_num_correct(self, preds, labels):\n",
        "        self.epoch_num_correct += self._get_num_correct(preds, labels)\n",
        "\n",
        "##############################################################\n",
        "\n",
        "    @torch.no_grad()\n",
        "    def _get_num_correct(self, preds, labels): # private method\n",
        "        return preds.argmax(dim=1).eq(labels).sum().item()\n",
        "        '''\n",
        "################################################################\n",
        "\n",
        "    def save(self, fileName):       # save run data to .csv .json format\n",
        "\n",
        "        pd.DataFrame.from_dict(\n",
        "            self.run_data, orient='columns').to_csv(f'{fileName}.csv')\n",
        "\n",
        "        with open(f'{fileName}.json', 'w', encoding='utf-8') as f:\n",
        "            json.dump(self.run_data, f, ensure_ascii=False, indent=4)\n",
        "\n",
        "###############################################################"
      ],
      "execution_count": 11,
      "outputs": []
    },
    {
      "cell_type": "code",
      "metadata": {
        "id": "ZJbsI4iQAPgi"
      },
      "source": [
        "class Network(nn.Module):\n",
        "\n",
        "    def __init__(self, n_features, n_hidden, n_layers):\n",
        "        super(Network, self).__init__()\n",
        "\n",
        "        self.n_features = n_features\n",
        "        self.n_hidden = n_hidden\n",
        "        self.n_layers = n_layers\n",
        "\n",
        "        self.lstm = nn.LSTM(input_size= n_features, hidden_size= n_hidden,\n",
        "                             num_layers = n_layers, batch_first = True,\n",
        "                             dropout = 0.3\n",
        "                             )\n",
        "            \n",
        "\n",
        "        self.linear1 = nn.Linear(in_features= n_hidden, out_features= 100)\n",
        "        self.linear2 = nn.Linear(in_features= 100, out_features= 61)\n",
        "\n",
        "    def forward(self, x):\n",
        "\n",
        "        h0 = torch.randn(self.n_layers, x.size(0), self.n_hidden).to('cuda')  # (batch_size= x.size(0) )\n",
        "        c0 = torch.randn(self.n_layers, x.size(0), self.n_hidden).to('cuda')\n",
        "        output, (hn, cn) = self.lstm(x, (h0, c0))\n",
        "        out = (self.linear1(hn[0]))\n",
        "        out = self.linear2(out)\n",
        "\n",
        "        return out"
      ],
      "execution_count": 12,
      "outputs": []
    },
    {
      "cell_type": "code",
      "metadata": {
        "id": "v2sg6m0b_ThD"
      },
      "source": [
        "train_set = CustomDataset(X_train, y_train, Transform= None)\n",
        "test_set = CustomDataset(X_test, y_test, Transform= None)"
      ],
      "execution_count": 112,
      "outputs": []
    },
    {
      "cell_type": "code",
      "metadata": {
        "colab": {
          "base_uri": "https://localhost:8080/",
          "height": 419
        },
        "id": "Vyn9eNNz_Tjl",
        "outputId": "425fa719-9c89-46b6-e161-44b070613d47"
      },
      "source": [
        "params = OrderedDict(\n",
        "    lr = [0.0005]\n",
        "    ,batch_size = [128]\n",
        "    , num_workers = [0]        #,1,2 ,...\n",
        "    , device = ['cuda']\n",
        ")\n",
        "\n",
        "\n",
        "m = RunManager()\n",
        "\n",
        "for run in RunBuilder.get_runs(params):\n",
        "\n",
        "    device = torch.device(run.device)\n",
        "    network = Network(n_features=61 , n_hidden=128 , n_layers=2).to(device)\n",
        "\n",
        "    loader = DataLoader(train_set, batch_size = run.batch_size,\n",
        "                                           num_workers = run.num_workers,\n",
        "                                           drop_last=True,\n",
        "                                           shuffle=False) \n",
        "    \n",
        "    Val_loader = DataLoader(test_set, batch_size = run.batch_size,\n",
        "                                           num_workers = run.num_workers,\n",
        "                                           drop_last=True,\n",
        "                                           shuffle=False) \n",
        "    \n",
        "    optimizer = optim.Adam(params= network.parameters(), lr= run.lr)\n",
        "    loss_fn = torch.nn.MSELoss()\n",
        "\n",
        "    m.begin_run(run, network, loader, Val_loader)\n",
        "\n",
        "    for epoch in range(100):\n",
        "        m.begin_epoch()\n",
        "    \n",
        "        for batch in loader:\n",
        "            data = batch[0].to(device)\n",
        "            labels = batch[1].to(device)\n",
        "            preds = network(data)\n",
        "            loss = loss_fn(preds, labels)\n",
        "            optimizer.zero_grad()\n",
        "            loss.backward()\n",
        "            optimizer.step()\n",
        "\n",
        "            m.track_loss(loss, batch)\n",
        "\n",
        "        with torch.no_grad():\n",
        "            for batch in Val_loader:\n",
        "                data = batch[0].to(device)\n",
        "                labels = batch[1].to(device)\n",
        "                preds = network(data)\n",
        "                val_loss = loss_fn(preds, labels)\n",
        "\n",
        "                m.track_Val_loss(val_loss, batch)\n",
        "\n",
        "        m.end_epoch()\n",
        "    m.end_run()\n",
        "\n",
        "#m.save('results')"
      ],
      "execution_count": 113,
      "outputs": [
        {
          "output_type": "display_data",
          "data": {
            "text/html": [
              "<div>\n",
              "<style scoped>\n",
              "    .dataframe tbody tr th:only-of-type {\n",
              "        vertical-align: middle;\n",
              "    }\n",
              "\n",
              "    .dataframe tbody tr th {\n",
              "        vertical-align: top;\n",
              "    }\n",
              "\n",
              "    .dataframe thead th {\n",
              "        text-align: right;\n",
              "    }\n",
              "</style>\n",
              "<table border=\"1\" class=\"dataframe\">\n",
              "  <thead>\n",
              "    <tr style=\"text-align: right;\">\n",
              "      <th></th>\n",
              "      <th>run</th>\n",
              "      <th>epoch</th>\n",
              "      <th>loss</th>\n",
              "      <th>Val_loss</th>\n",
              "      <th>epoch duration</th>\n",
              "      <th>run duration</th>\n",
              "      <th>lr</th>\n",
              "      <th>batch_size</th>\n",
              "      <th>num_workers</th>\n",
              "      <th>device</th>\n",
              "    </tr>\n",
              "  </thead>\n",
              "  <tbody>\n",
              "    <tr>\n",
              "      <th>0</th>\n",
              "      <td>1</td>\n",
              "      <td>1</td>\n",
              "      <td>26.734031</td>\n",
              "      <td>0.872275</td>\n",
              "      <td>20.171069</td>\n",
              "      <td>20.253396</td>\n",
              "      <td>0.0005</td>\n",
              "      <td>128</td>\n",
              "      <td>0</td>\n",
              "      <td>cuda</td>\n",
              "    </tr>\n",
              "    <tr>\n",
              "      <th>1</th>\n",
              "      <td>1</td>\n",
              "      <td>2</td>\n",
              "      <td>4.678037</td>\n",
              "      <td>0.248426</td>\n",
              "      <td>20.305663</td>\n",
              "      <td>40.736327</td>\n",
              "      <td>0.0005</td>\n",
              "      <td>128</td>\n",
              "      <td>0</td>\n",
              "      <td>cuda</td>\n",
              "    </tr>\n",
              "    <tr>\n",
              "      <th>2</th>\n",
              "      <td>1</td>\n",
              "      <td>3</td>\n",
              "      <td>2.528604</td>\n",
              "      <td>0.147078</td>\n",
              "      <td>20.204407</td>\n",
              "      <td>61.152458</td>\n",
              "      <td>0.0005</td>\n",
              "      <td>128</td>\n",
              "      <td>0</td>\n",
              "      <td>cuda</td>\n",
              "    </tr>\n",
              "    <tr>\n",
              "      <th>3</th>\n",
              "      <td>1</td>\n",
              "      <td>4</td>\n",
              "      <td>2.223676</td>\n",
              "      <td>0.131730</td>\n",
              "      <td>20.038316</td>\n",
              "      <td>81.384175</td>\n",
              "      <td>0.0005</td>\n",
              "      <td>128</td>\n",
              "      <td>0</td>\n",
              "      <td>cuda</td>\n",
              "    </tr>\n",
              "    <tr>\n",
              "      <th>4</th>\n",
              "      <td>1</td>\n",
              "      <td>5</td>\n",
              "      <td>1.588117</td>\n",
              "      <td>0.194898</td>\n",
              "      <td>20.057294</td>\n",
              "      <td>101.632950</td>\n",
              "      <td>0.0005</td>\n",
              "      <td>128</td>\n",
              "      <td>0</td>\n",
              "      <td>cuda</td>\n",
              "    </tr>\n",
              "    <tr>\n",
              "      <th>...</th>\n",
              "      <td>...</td>\n",
              "      <td>...</td>\n",
              "      <td>...</td>\n",
              "      <td>...</td>\n",
              "      <td>...</td>\n",
              "      <td>...</td>\n",
              "      <td>...</td>\n",
              "      <td>...</td>\n",
              "      <td>...</td>\n",
              "      <td>...</td>\n",
              "    </tr>\n",
              "    <tr>\n",
              "      <th>95</th>\n",
              "      <td>1</td>\n",
              "      <td>96</td>\n",
              "      <td>0.193237</td>\n",
              "      <td>0.029148</td>\n",
              "      <td>18.761517</td>\n",
              "      <td>1829.215652</td>\n",
              "      <td>0.0005</td>\n",
              "      <td>128</td>\n",
              "      <td>0</td>\n",
              "      <td>cuda</td>\n",
              "    </tr>\n",
              "    <tr>\n",
              "      <th>96</th>\n",
              "      <td>1</td>\n",
              "      <td>97</td>\n",
              "      <td>0.181251</td>\n",
              "      <td>0.016732</td>\n",
              "      <td>18.375019</td>\n",
              "      <td>1847.780425</td>\n",
              "      <td>0.0005</td>\n",
              "      <td>128</td>\n",
              "      <td>0</td>\n",
              "      <td>cuda</td>\n",
              "    </tr>\n",
              "    <tr>\n",
              "      <th>97</th>\n",
              "      <td>1</td>\n",
              "      <td>98</td>\n",
              "      <td>0.141995</td>\n",
              "      <td>0.016962</td>\n",
              "      <td>18.735150</td>\n",
              "      <td>1866.709169</td>\n",
              "      <td>0.0005</td>\n",
              "      <td>128</td>\n",
              "      <td>0</td>\n",
              "      <td>cuda</td>\n",
              "    </tr>\n",
              "    <tr>\n",
              "      <th>98</th>\n",
              "      <td>1</td>\n",
              "      <td>99</td>\n",
              "      <td>0.257448</td>\n",
              "      <td>0.020080</td>\n",
              "      <td>18.513318</td>\n",
              "      <td>1885.463564</td>\n",
              "      <td>0.0005</td>\n",
              "      <td>128</td>\n",
              "      <td>0</td>\n",
              "      <td>cuda</td>\n",
              "    </tr>\n",
              "    <tr>\n",
              "      <th>99</th>\n",
              "      <td>1</td>\n",
              "      <td>100</td>\n",
              "      <td>0.143023</td>\n",
              "      <td>0.015640</td>\n",
              "      <td>18.690072</td>\n",
              "      <td>1904.349635</td>\n",
              "      <td>0.0005</td>\n",
              "      <td>128</td>\n",
              "      <td>0</td>\n",
              "      <td>cuda</td>\n",
              "    </tr>\n",
              "  </tbody>\n",
              "</table>\n",
              "<p>100 rows × 10 columns</p>\n",
              "</div>"
            ],
            "text/plain": [
              "    run  epoch       loss  Val_loss  ...      lr  batch_size  num_workers  device\n",
              "0     1      1  26.734031  0.872275  ...  0.0005         128            0    cuda\n",
              "1     1      2   4.678037  0.248426  ...  0.0005         128            0    cuda\n",
              "2     1      3   2.528604  0.147078  ...  0.0005         128            0    cuda\n",
              "3     1      4   2.223676  0.131730  ...  0.0005         128            0    cuda\n",
              "4     1      5   1.588117  0.194898  ...  0.0005         128            0    cuda\n",
              "..  ...    ...        ...       ...  ...     ...         ...          ...     ...\n",
              "95    1     96   0.193237  0.029148  ...  0.0005         128            0    cuda\n",
              "96    1     97   0.181251  0.016732  ...  0.0005         128            0    cuda\n",
              "97    1     98   0.141995  0.016962  ...  0.0005         128            0    cuda\n",
              "98    1     99   0.257448  0.020080  ...  0.0005         128            0    cuda\n",
              "99    1    100   0.143023  0.015640  ...  0.0005         128            0    cuda\n",
              "\n",
              "[100 rows x 10 columns]"
            ]
          },
          "metadata": {
            "tags": []
          }
        }
      ]
    },
    {
      "cell_type": "code",
      "metadata": {
        "id": "TjhMO0B5A5L1"
      },
      "source": [
        "df = pd.read_csv('/content/drive/MyDrive/dataset/Oneshot_Test1.csv')\n",
        "data = df.to_numpy()\n",
        "t = data[:, 0]\n",
        "data = data[:,123:]"
      ],
      "execution_count": 124,
      "outputs": []
    },
    {
      "cell_type": "code",
      "metadata": {
        "id": "SztwP_qtA5OR"
      },
      "source": [
        "tst = torch.tensor(data[0:35], dtype=torch.float32).reshape(1,35,61).to('cuda')"
      ],
      "execution_count": 125,
      "outputs": []
    },
    {
      "cell_type": "code",
      "metadata": {
        "id": "O4zWpH3xA5Q6"
      },
      "source": [
        "preds = []\n",
        "with torch.no_grad():\n",
        "    \n",
        "    pred = network(tst)\n",
        "    preds.append(pred.squeeze())\n",
        "    #print(preds)\n",
        "\n",
        "    for i in range(50):\n",
        "        tst = torch.roll(tst, -1, 1)\n",
        "        tst[0,34] = pred.squeeze()\n",
        "        #print(tst)\n",
        "        pred = network(tst)\n",
        "        preds.append(pred.squeeze())\n",
        "\n",
        "\n",
        "for i in range(len(preds)):\n",
        "    preds[i] = preds[i].to('cpu').numpy()\n"
      ],
      "execution_count": 126,
      "outputs": []
    },
    {
      "cell_type": "code",
      "metadata": {
        "id": "L6z3rmqNbEdM"
      },
      "source": [
        "preds = np.array(preds)"
      ],
      "execution_count": 127,
      "outputs": []
    },
    {
      "cell_type": "code",
      "metadata": {
        "colab": {
          "base_uri": "https://localhost:8080/",
          "height": 382
        },
        "id": "KLjbDJ9hA5TL",
        "outputId": "a65edaa2-e574-4242-a510-fad294e2fc53"
      },
      "source": [
        "plt.figure(figsize=(8,5))\n",
        "plt.plot(t[0:86], data[0:86, 0], label='True', c='darkred')\n",
        "plt.plot(t[35:86], preds[:,0], label='Predicted', c='darkblue')\n",
        "plt.title('FIDVR_Inex For AssadAbad3', c='darkgreen', fontsize = 17)\n",
        "plt.xlabel('Time(s)', fontsize = 17, c='brown')\n",
        "plt.ylabel('Index', fontsize = 17, c='brown')\n",
        "#plt.ylim((-1.5, 1.5))\n",
        "plt.legend()"
      ],
      "execution_count": 128,
      "outputs": [
        {
          "output_type": "execute_result",
          "data": {
            "text/plain": [
              "<matplotlib.legend.Legend at 0x7f2a610f0ed0>"
            ]
          },
          "metadata": {
            "tags": []
          },
          "execution_count": 128
        },
        {
          "output_type": "display_data",
          "data": {
            "image/png": "[encoded data removed]",
            "text/plain": [
              "<Figure size 576x360 with 1 Axes>"
            ]
          },
          "metadata": {
            "tags": [],
            "image/png": {
              "width": 531,
              "height": 348
            },
            "needs_background": "light"
          }
        }
      ]
    }
  ]
}